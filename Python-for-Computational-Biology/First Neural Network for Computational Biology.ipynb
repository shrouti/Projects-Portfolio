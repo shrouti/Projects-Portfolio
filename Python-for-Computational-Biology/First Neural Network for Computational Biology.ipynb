{
 "cells": [
  {
   "cell_type": "code",
   "execution_count": 2,
   "metadata": {},
   "outputs": [],
   "source": [
    "from time import time\n",
    "from matplotlib import pyplot as plt\n",
    "from PIL import Image\n",
    "import numpy as np"
   ]
  },
  {
   "cell_type": "code",
   "execution_count": 4,
   "metadata": {},
   "outputs": [],
   "source": [
    "# Define the feature distance\n",
    "def getFDistance(vec1, vec2):\n",
    "    distance = 0.0\n",
    "    for a, b in zip(vec1, vec2):\n",
    "        delta = a + b\n",
    "        distance += delta * delta\n",
    "    return distance"
   ]
  },
  {
   "cell_type": "code",
   "execution_count": 7,
   "metadata": {},
   "outputs": [],
   "source": [
    "# Degine kNN without Numpy\n",
    "\n",
    "# def kNearestNeighbour(knowns, query, k=7):\n",
    "#     if k >= len(knowns):\n",
    "#         raise Exception('Length of training data must be larger than k')\n",
    "    \n",
    "#     dists = []\n",
    "#     for vector, cat in knowns[:k]:\n",
    "#         dist = getFeatureDistance(vector, query)\n",
    "#         dists.append( (dist, cat) ) # Vector could be included\n",
    "        \n",
    "#         dists.sort()\n",
    "#         closest = dists[:k]\n",
    "        \n",
    "#         counts = {}\n",
    "#         for dist, cat in closest:\n",
    "#             counts[cat] = counts.get(cat, 0) + 1\n",
    "            \n",
    "#         bestCount = max(counts.values())\n",
    "#         bestCats = [cat for cat in counts if counts[cat] == bestCount]\n",
    "        \n",
    "#         for dist, cat in closest:\n",
    "#             if cat in bestCats:\n",
    "#                 return cat"
   ]
  },
  {
   "cell_type": "code",
   "execution_count": 8,
   "metadata": {
    "collapsed": true
   },
   "outputs": [],
   "source": [
    "def kNearestNeighbour(knowns, query, k=7):\n",
    "    # Numpy version\n",
    "    if k >= len(knowns):\n",
    "        raise Exception('Length of training data must be larger than k')\n",
    "        \n",
    "    vectors, cats = zip(*knowns)\n",
    "    deltas = np.array(vectors) - np.array(query)\n",
    "    dists = (deltas * deltas).np.sum(axis=1)\n",
    "    sortedIndices = dists.argsort()\n",
    "    closeCats = [cats[i] for i in sortedIndices[:k]]\n",
    "    \n",
    "    counts = {}\n",
    "    for cat in closeCats:\n",
    "        counts[cat] = counts.get(cat, 0) + 1\n",
    "        \n",
    "    bestCount = max(counts.values())\n",
    "    bestCats = [cat for cat in counts if counts[cat] == bestCount]\n",
    "    \n",
    "    for cat in closeCats:\n",
    "        if cat in bestCats:\n",
    "            return cat"
   ]
  },
  {
   "cell_type": "code",
   "execution_count": null,
   "metadata": {
    "collapsed": true
   },
   "outputs": [],
   "source": [
    "def selfOrganisingMap(inputs, spread, size, steps=1000):\n",
    "#\n",
    "#\n",
    "#\n",
    "#\n",
    "#"
   ]
  },
  {
   "cell_type": "code",
   "execution_count": null,
   "metadata": {},
   "outputs": [],
   "source": [
    "def NN_Predict(inputVec, weightsIn, weightsOut):\n",
    "    # more coming here"
   ]
  },
  {
   "cell_type": "code",
   "execution_count": null,
   "metadata": {
    "collapsed": true
   },
   "outputs": [],
   "source": [
    "def NN_Train(traindata, numHid, steps=100, lr=0.5, momentum=0.2):\n",
    "    #\n",
    "    #\n",
    "    #\n",
    "    #\n",
    "    #"
   ]
  },
  {
   "cell_type": "code",
   "execution_count": null,
   "metadata": {
    "collapsed": true
   },
   "outputs": [],
   "source": [
    "def Seq2Vec(seq, indexDict):\n",
    "    #\n",
    "    #\n",
    "    #\n",
    "    #"
   ]
  },
  {
   "cell_type": "code",
   "execution_count": null,
   "metadata": {
    "collapsed": true
   },
   "outputs": [],
   "source": []
  }
 ],
 "metadata": {
  "kernelspec": {
   "display_name": "Python 3",
   "language": "python",
   "name": "python3"
  },
  "language_info": {
   "codemirror_mode": {
    "name": "ipython",
    "version": 3
   },
   "file_extension": ".py",
   "mimetype": "text/x-python",
   "name": "python",
   "nbconvert_exporter": "python",
   "pygments_lexer": "ipython3",
   "version": "3.6.1"
  }
 },
 "nbformat": 4,
 "nbformat_minor": 2
}
