{
 "cells": [
  {
   "cell_type": "code",
   "execution_count": 1,
   "metadata": {},
   "outputs": [],
   "source": [
    "import pandas as pd"
   ]
  },
  {
   "cell_type": "code",
   "execution_count": 2,
   "metadata": {},
   "outputs": [],
   "source": [
    "adw_camp_df = pd.read_csv('../raw_data/adwords_campaign.csv', parse_dates=['Day'], thousands=',')"
   ]
  },
  {
   "cell_type": "code",
   "execution_count": 3,
   "metadata": {},
   "outputs": [],
   "source": [
    "adw_camp_df['Cost'] = adw_camp_df['Cost'].apply(lambda item: item.replace('₹','').replace(',',''))\\\n",
    "                                         .astype(float)"
   ]
  },
  {
   "cell_type": "code",
   "execution_count": 4,
   "metadata": {},
   "outputs": [],
   "source": [
    "adw_map_df = pd.read_csv('../raw_data/adwords_mapping.csv')"
   ]
  },
  {
   "cell_type": "code",
   "execution_count": 5,
   "metadata": {},
   "outputs": [],
   "source": [
    "map_campaign = adw_map_df['Campaign']"
   ]
  },
  {
   "cell_type": "code",
   "execution_count": 6,
   "metadata": {},
   "outputs": [
    {
     "name": "stdout",
     "output_type": "stream",
     "text": [
      "There are no duplicate campaigns in the mapping file\n"
     ]
    }
   ],
   "source": [
    "if map_campaign.duplicated(keep='first').sum() == 0:\n",
    "    print(f'There are no duplicate campaigns in the mapping file')\n",
    "else:\n",
    "    print(f'There are {map_campaign.duplicated(keep=\"first\").sum()} Campaigns in the mapping file.')"
   ]
  },
  {
   "cell_type": "code",
   "execution_count": 7,
   "metadata": {},
   "outputs": [],
   "source": [
    "adw_overall = adw_camp_df.merge(adw_map_df,how='left', on=['Campaign'])"
   ]
  },
  {
   "cell_type": "code",
   "execution_count": 8,
   "metadata": {},
   "outputs": [
    {
     "name": "stdout",
     "output_type": "stream",
     "text": [
      "Status: OK\n"
     ]
    }
   ],
   "source": [
    "if adw_overall['Category'].isnull().sum() > 0:\n",
    "    print('Please add the campaign names present in the adwords_mapping_new_campaigns file to the mapping file')\n",
    "    new_camps = adw_overall[adw_overall['Category'].isnull()]['Campaign'].drop_duplicates()\n",
    "    new_camps.to_csv('../adwords_mapping_new_campaigns.csv', index=False)\n",
    "else:\n",
    "    print('Status: OK')"
   ]
  },
  {
   "cell_type": "code",
   "execution_count": 9,
   "metadata": {},
   "outputs": [],
   "source": [
    "adw_overall['Month'] = adw_overall['Day'].dt.strftime('%b-%y')"
   ]
  },
  {
   "cell_type": "code",
   "execution_count": 10,
   "metadata": {},
   "outputs": [],
   "source": [
    "reorder_cols = ['Day', 'Month', 'Category', 'Campaign', 'Clicks', 'Impressions', 'Cost', 'Conversions']"
   ]
  },
  {
   "cell_type": "code",
   "execution_count": 11,
   "metadata": {},
   "outputs": [],
   "source": [
    "adw_overall[reorder_cols].sort_values('Day').to_csv('../output/adwords_only.csv', index=False)"
   ]
  },
  {
   "cell_type": "code",
   "execution_count": null,
   "metadata": {},
   "outputs": [],
   "source": []
  },
  {
   "cell_type": "code",
   "execution_count": null,
   "metadata": {},
   "outputs": [],
   "source": []
  }
 ],
 "metadata": {
  "kernelspec": {
   "display_name": "Python 3",
   "language": "python",
   "name": "python3"
  },
  "language_info": {
   "codemirror_mode": {
    "name": "ipython",
    "version": 3
   },
   "file_extension": ".py",
   "mimetype": "text/x-python",
   "name": "python",
   "nbconvert_exporter": "python",
   "pygments_lexer": "ipython3",
   "version": "3.6.4"
  }
 },
 "nbformat": 4,
 "nbformat_minor": 2
}
