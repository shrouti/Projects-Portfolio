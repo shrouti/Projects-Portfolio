{
 "cells": [
  {
   "cell_type": "code",
   "execution_count": 1,
   "metadata": {},
   "outputs": [],
   "source": [
    "import pandas as pd"
   ]
  },
  {
   "cell_type": "code",
   "execution_count": 2,
   "metadata": {},
   "outputs": [],
   "source": [
    "adw_camp_df = pd.read_csv('../raw_data/adwords_campaign.csv', parse_dates=['Day'], thousands=',')"
   ]
  },
  {
   "cell_type": "code",
   "execution_count": 3,
   "metadata": {},
   "outputs": [],
   "source": [
    "adw_camp_df['Cost'] = adw_camp_df['Cost'].apply(lambda item: item.replace('₹','').replace(',',''))\\\n",
    "                                         .astype(float)"
   ]
  },
  {
   "cell_type": "code",
   "execution_count": 4,
   "metadata": {},
   "outputs": [],
   "source": [
    "adw_conv = pd.read_csv('../raw_data/adwords_conversions.csv', parse_dates=['Day'], thousands=',')"
   ]
  },
  {
   "cell_type": "code",
   "execution_count": 5,
   "metadata": {},
   "outputs": [],
   "source": [
    "adw_conv['Conversions'] = adw_conv['Conversions'].astype('int64')"
   ]
  },
  {
   "cell_type": "code",
   "execution_count": 6,
   "metadata": {},
   "outputs": [],
   "source": [
    "reorder_col = ['Day', 'Campaign', 'Device', 'Conversion action', 'Conversions']"
   ]
  },
  {
   "cell_type": "code",
   "execution_count": 7,
   "metadata": {},
   "outputs": [],
   "source": [
    "adw_conv = adw_conv[reorder_col].sort_values(by=['Day', 'Campaign', 'Conversions'], ascending = [True, True, False])"
   ]
  },
  {
   "cell_type": "code",
   "execution_count": 9,
   "metadata": {},
   "outputs": [],
   "source": [
    "adw_conv_df = adw_conv.set_index(keys=['Day', 'Campaign', 'Device', 'Conversion action'])\\\n",
    "                      .unstack(fill_value=0)\\\n",
    "                      .reset_index()"
   ]
  },
  {
   "cell_type": "code",
   "execution_count": 10,
   "metadata": {},
   "outputs": [],
   "source": [
    "adw_conv_df.columns =  [''.join(col).strip().replace('Conversions', '') for col in adw_conv_df.columns.values]"
   ]
  },
  {
   "cell_type": "code",
   "execution_count": 11,
   "metadata": {},
   "outputs": [],
   "source": [
    "adw_conv = adw_conv_df"
   ]
  },
  {
   "cell_type": "code",
   "execution_count": 12,
   "metadata": {},
   "outputs": [],
   "source": [
    "adw_camp_conv_df = adw_camp_df.merge(adw_conv,how='left',on=['Day', 'Campaign', 'Device']).fillna(0)"
   ]
  },
  {
   "cell_type": "code",
   "execution_count": 13,
   "metadata": {},
   "outputs": [],
   "source": [
    "for item in adw_camp_conv_df.select_dtypes('float').columns.tolist()[1:]:\n",
    "    adw_camp_conv_df[item] = adw_camp_conv_df[item].astype('int64')"
   ]
  },
  {
   "cell_type": "code",
   "execution_count": null,
   "metadata": {},
   "outputs": [],
   "source": []
  },
  {
   "cell_type": "code",
   "execution_count": 14,
   "metadata": {},
   "outputs": [],
   "source": [
    "adw_map_df = pd.read_csv('../raw_data/adwords_mapping.csv')"
   ]
  },
  {
   "cell_type": "code",
   "execution_count": 15,
   "metadata": {},
   "outputs": [],
   "source": [
    "map_campaign = adw_map_df['Campaign']"
   ]
  },
  {
   "cell_type": "code",
   "execution_count": 16,
   "metadata": {},
   "outputs": [
    {
     "name": "stdout",
     "output_type": "stream",
     "text": [
      "There are no duplicate campaigns in the mapping file\n"
     ]
    }
   ],
   "source": [
    "if map_campaign.duplicated(keep='first').sum() == 0:\n",
    "    print(f'There are no duplicate campaigns in the mapping file')\n",
    "else:\n",
    "    print(f'There are {map_campaign.duplicated(keep=\"first\").sum()} Campaigns in the mapping file.')"
   ]
  },
  {
   "cell_type": "code",
   "execution_count": 17,
   "metadata": {},
   "outputs": [],
   "source": [
    "adw_overall = adw_camp_conv_df.merge(adw_map_df,how='left', on=['Campaign'])"
   ]
  },
  {
   "cell_type": "code",
   "execution_count": 18,
   "metadata": {},
   "outputs": [
    {
     "name": "stdout",
     "output_type": "stream",
     "text": [
      "Status: OK\n"
     ]
    }
   ],
   "source": [
    "if adw_overall['Category'].isnull().sum() > 0:\n",
    "    print('Please add the campaign names present in the adwords_mapping_new_campaigns file to the mapping file')\n",
    "    new_camps = adw_overall[adw_overall['Category'].isnull()]['Campaign'].drop_duplicates()\n",
    "    new_camps.to_csv('../adwords_mapping_new_campaigns.csv', index=False)\n",
    "else:\n",
    "    print('Status: OK')"
   ]
  },
  {
   "cell_type": "code",
   "execution_count": 19,
   "metadata": {},
   "outputs": [],
   "source": [
    "adw_overall['Month'] = adw_overall['Day'].dt.strftime('%b-%y')"
   ]
  },
  {
   "cell_type": "code",
   "execution_count": 20,
   "metadata": {},
   "outputs": [],
   "source": [
    "del adw_overall['Conversions']"
   ]
  },
  {
   "cell_type": "code",
   "execution_count": 21,
   "metadata": {},
   "outputs": [],
   "source": [
    "col_index = [0,13,12,1,2,3,4,5,6,7,8,9,10,11]"
   ]
  },
  {
   "cell_type": "code",
   "execution_count": 22,
   "metadata": {},
   "outputs": [],
   "source": [
    "reoder_cols = [adw_overall.columns.tolist()[i] for i in col_index]"
   ]
  },
  {
   "cell_type": "code",
   "execution_count": 23,
   "metadata": {},
   "outputs": [],
   "source": [
    "adw_overall[reoder_cols].to_csv('../output/adwords_only_conversion_actions.csv', index = False)"
   ]
  }
 ],
 "metadata": {
  "kernelspec": {
   "display_name": "Python 3",
   "language": "python",
   "name": "python3"
  },
  "language_info": {
   "codemirror_mode": {
    "name": "ipython",
    "version": 3
   },
   "file_extension": ".py",
   "mimetype": "text/x-python",
   "name": "python",
   "nbconvert_exporter": "python",
   "pygments_lexer": "ipython3",
   "version": "3.6.4"
  }
 },
 "nbformat": 4,
 "nbformat_minor": 2
}
